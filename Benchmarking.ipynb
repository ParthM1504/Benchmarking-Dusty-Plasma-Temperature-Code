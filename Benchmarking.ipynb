{
 "cells": [
  {
   "cell_type": "code",
   "execution_count": 484,
   "metadata": {},
   "outputs": [],
   "source": [
    "import pandas as pd\n",
    "import numpy as np\n",
    "import matplotlib.pyplot as plt\n",
    "import scipy.stats as sts\n",
    "from scipy import constants\n",
    "%matplotlib inline"
   ]
  },
  {
   "cell_type": "markdown",
   "metadata": {},
   "source": [
    "Defining the Variables"
   ]
  },
  {
   "cell_type": "code",
   "execution_count": 485,
   "metadata": {},
   "outputs": [
    {
     "name": "stdout",
     "output_type": "stream",
     "text": [
      "0.0006926383579377664\n"
     ]
    }
   ],
   "source": [
    "# Parametersfor the benchmarking\n",
    "fps=295\n",
    "num_particles=1000\n",
    "dt=1/fps\n",
    "spatial_resolution=30E-06  # in microns per px\n",
    "dust_diameter=7.14E-6 # in metres\n",
    "dust_rho=1510.0\n",
    "mu = 0\n",
    "mass = 4.0 / 3.0 * np.pi * ( dust_diameter/ 2.0)**3 * dust_rho #mass of the dust particles\n",
    "# print(mass)\n",
    "kb=constants.Boltzmann\n",
    "T=10000 #temperature in Kelvin\n",
    "sigma = np.sqrt(kb*T/mass)\n",
    "print(sigma)\n",
    "\n",
    "left=0\n",
    "right=1751 # right border in px\n",
    "up=1667\n",
    "left_SI=left*spatial_resolution\n",
    "right_SI=right*spatial_resolution"
   ]
  },
  {
   "cell_type": "markdown",
   "metadata": {},
   "source": [
    "Generating initial x coordinates"
   ]
  },
  {
   "cell_type": "code",
   "execution_count": 486,
   "metadata": {},
   "outputs": [
    {
     "name": "stdout",
     "output_type": "stream",
     "text": [
      "[3.405e-02 1.161e-02 7.380e-03 4.815e-02 1.131e-02 1.773e-02 2.553e-02\n",
      " 4.086e-02 2.574e-02 3.420e-03 7.020e-03 2.790e-02 4.710e-02 3.762e-02\n",
      " 3.870e-03 7.560e-03 3.750e-03 1.137e-02 3.801e-02 5.193e-02 7.770e-03\n",
      " 5.073e-02 6.600e-04 2.193e-02 4.977e-02 4.650e-02 1.296e-02 4.935e-02\n",
      " 1.014e-02 4.953e-02 4.611e-02 1.323e-02 1.410e-03 2.961e-02 4.830e-02\n",
      " 6.450e-03 4.683e-02 1.125e-02 3.642e-02 1.917e-02 2.676e-02 1.416e-02\n",
      " 3.801e-02 1.263e-02 3.522e-02 2.820e-03 1.614e-02 3.219e-02 3.000e-05\n",
      " 2.550e-03 5.103e-02 7.350e-03 3.315e-02 4.047e-02 5.430e-03 2.184e-02\n",
      " 2.259e-02 5.172e-02 6.030e-03 5.094e-02 6.420e-03 4.710e-03 1.635e-02\n",
      " 1.680e-02 2.532e-02 2.571e-02 3.759e-02 9.030e-03 4.344e-02 3.552e-02\n",
      " 3.501e-02 3.603e-02 3.297e-02 1.653e-02 3.873e-02 3.003e-02 1.137e-02\n",
      " 3.570e-03 8.460e-03 4.731e-02 8.400e-04 3.606e-02 3.387e-02 3.000e-04\n",
      " 2.628e-02 2.034e-02 2.514e-02 3.222e-02 3.423e-02 6.060e-03 1.947e-02\n",
      " 3.381e-02 1.230e-02 3.135e-02 8.520e-03 1.110e-02 4.092e-02 5.181e-02\n",
      " 1.581e-02 1.731e-02 4.116e-02 7.980e-03 3.342e-02 5.160e-02 1.950e-03\n",
      " 2.205e-02 6.780e-03 1.938e-02 1.590e-03 3.678e-02 4.788e-02 1.701e-02\n",
      " 1.515e-02 2.004e-02 4.431e-02 3.282e-02 2.700e-03 3.822e-02 3.354e-02\n",
      " 5.157e-02 2.415e-02 2.142e-02 1.647e-02 3.381e-02 4.191e-02 3.750e-02\n",
      " 2.730e-02 4.257e-02 9.540e-03 1.680e-02 3.213e-02 1.107e-02 2.415e-02\n",
      " 2.769e-02 1.497e-02 4.680e-03 1.773e-02 2.349e-02 4.200e-03 5.730e-03\n",
      " 4.455e-02 2.478e-02 1.602e-02 7.200e-03 2.541e-02 6.990e-03 1.413e-02\n",
      " 4.056e-02 1.158e-02 2.607e-02 1.329e-02 4.536e-02 4.926e-02 3.138e-02\n",
      " 2.394e-02 6.870e-03 2.208e-02 3.021e-02 3.585e-02 5.067e-02 3.510e-02\n",
      " 1.917e-02 3.945e-02 3.786e-02 4.602e-02 2.133e-02 2.037e-02 2.535e-02\n",
      " 4.467e-02 3.180e-02 2.919e-02 1.263e-02 2.988e-02 5.310e-03 4.491e-02\n",
      " 2.142e-02 3.339e-02 5.127e-02 1.014e-02 2.292e-02 4.125e-02 2.661e-02\n",
      " 2.592e-02 3.156e-02 5.016e-02 2.214e-02 7.170e-03 3.210e-02 5.052e-02\n",
      " 3.732e-02 2.130e-03 1.854e-02 1.530e-02 3.990e-03 3.351e-02 2.199e-02\n",
      " 2.829e-02 1.665e-02 1.458e-02 1.011e-02 1.848e-02 1.140e-02 2.985e-02\n",
      " 4.638e-02 4.845e-02 1.923e-02 9.720e-03 3.732e-02 3.372e-02 4.719e-02\n",
      " 4.392e-02 2.583e-02 5.148e-02 1.704e-02 2.088e-02 3.876e-02 3.717e-02\n",
      " 4.461e-02 2.013e-02 4.674e-02 8.010e-03 3.540e-02 1.650e-03 2.244e-02\n",
      " 6.300e-04 1.065e-02 1.296e-02 1.398e-02 5.244e-02 4.578e-02 5.220e-02\n",
      " 3.027e-02 4.458e-02 3.639e-02 2.907e-02 2.580e-02 4.572e-02 4.338e-02\n",
      " 2.100e-03 1.770e-02 3.105e-02 6.510e-03 2.070e-03 1.491e-02 1.182e-02\n",
      " 3.039e-02 3.570e-03 1.560e-02 3.402e-02 2.370e-02 3.849e-02 7.830e-03\n",
      " 4.932e-02 1.470e-03 4.122e-02 6.750e-03 5.058e-02 2.958e-02 1.857e-02\n",
      " 5.022e-02 2.679e-02 3.369e-02 1.281e-02 9.810e-03 4.950e-02 1.230e-02\n",
      " 3.195e-02 4.623e-02 4.656e-02 1.440e-02 2.400e-02 2.604e-02 1.614e-02\n",
      " 2.967e-02 2.958e-02 3.273e-02 4.203e-02 5.094e-02 2.382e-02 1.032e-02\n",
      " 4.296e-02 3.906e-02 2.910e-02 2.400e-02 8.070e-03 5.340e-03 2.682e-02\n",
      " 1.506e-02 3.624e-02 5.196e-02 1.155e-02 1.899e-02 2.859e-02 3.381e-02\n",
      " 1.503e-02 1.113e-02 4.332e-02 6.450e-03 2.880e-02 2.037e-02 1.266e-02\n",
      " 3.963e-02 2.970e-02 2.109e-02 2.274e-02 3.600e-03 5.850e-03 2.931e-02\n",
      " 2.391e-02 4.440e-02 1.557e-02 5.223e-02 1.830e-02 3.357e-02 1.803e-02\n",
      " 1.989e-02 3.120e-02 1.005e-02 1.539e-02 3.990e-03 4.479e-02 4.272e-02\n",
      " 5.013e-02 5.160e-03 3.024e-02 5.070e-02 1.077e-02 4.893e-02 4.467e-02\n",
      " 2.883e-02 2.100e-02 1.875e-02 2.370e-03 4.395e-02 8.250e-03 6.750e-03\n",
      " 1.062e-02 3.558e-02 2.499e-02 1.434e-02 2.700e-04 1.104e-02 9.150e-03\n",
      " 2.283e-02 2.019e-02 3.978e-02 1.359e-02 3.336e-02 4.521e-02 4.452e-02\n",
      " 3.630e-02 9.900e-03 4.098e-02 3.972e-02 1.710e-03 5.013e-02 8.490e-03\n",
      " 1.656e-02 4.050e-02 1.101e-02 1.299e-02 1.092e-02 2.499e-02 3.843e-02\n",
      " 4.356e-02 1.671e-02 2.280e-03 2.094e-02 2.139e-02 2.091e-02 1.698e-02\n",
      " 4.896e-02 0.000e+00 3.276e-02 2.412e-02 2.898e-02 3.330e-02 1.251e-02\n",
      " 5.166e-02 5.238e-02 2.610e-03 7.680e-03 1.095e-02 1.989e-02 3.711e-02\n",
      " 5.184e-02 1.689e-02 3.045e-02 2.790e-02 4.494e-02 4.434e-02 2.907e-02\n",
      " 1.731e-02 2.346e-02 4.599e-02 5.016e-02 1.017e-02 2.748e-02 8.250e-03\n",
      " 2.337e-02 2.760e-03 4.098e-02 4.878e-02 2.478e-02 3.078e-02 5.580e-03\n",
      " 3.273e-02 9.900e-03 4.875e-02 4.560e-03 1.746e-02 3.825e-02 4.533e-02\n",
      " 4.233e-02 4.878e-02 3.330e-03 1.740e-02 2.304e-02 2.778e-02 1.545e-02\n",
      " 3.366e-02 5.031e-02 1.803e-02 5.100e-03 4.296e-02 9.000e-04 4.053e-02\n",
      " 7.590e-03 1.716e-02 5.016e-02 4.998e-02 9.000e-05 3.369e-02 1.944e-02\n",
      " 2.910e-03 2.859e-02 4.689e-02 4.140e-02 2.925e-02 1.830e-03 1.272e-02\n",
      " 4.014e-02 6.180e-03 2.010e-02 4.359e-02 1.008e-02 2.970e-03 1.440e-02\n",
      " 1.503e-02 2.217e-02 3.570e-03 1.857e-02 9.900e-04 2.445e-02 2.082e-02\n",
      " 3.000e-02 1.386e-02 2.847e-02 2.478e-02 4.860e-02 3.471e-02 6.990e-03\n",
      " 2.565e-02 2.364e-02 1.980e-02 4.920e-03 3.843e-02 1.425e-02 2.532e-02\n",
      " 1.329e-02 5.970e-03 3.483e-02 1.851e-02 4.506e-02 3.573e-02 8.730e-03\n",
      " 2.538e-02 5.106e-02 5.154e-02 1.755e-02 3.420e-03 4.128e-02 2.997e-02\n",
      " 4.032e-02 5.040e-03 4.203e-02 3.618e-02 3.105e-02 3.834e-02 1.998e-02\n",
      " 3.063e-02 3.591e-02 3.360e-03 1.890e-02 4.446e-02 3.966e-02 2.619e-02\n",
      " 4.077e-02 1.803e-02 6.420e-03 4.623e-02 5.220e-02 2.532e-02 4.164e-02\n",
      " 3.627e-02 3.045e-02 4.032e-02 3.057e-02 4.773e-02 4.104e-02 4.704e-02\n",
      " 1.119e-02 1.428e-02 1.170e-03 2.121e-02 5.070e-03 3.375e-02 3.648e-02\n",
      " 2.256e-02 1.470e-03 4.596e-02 5.154e-02 3.954e-02 8.700e-03 2.100e-02\n",
      " 1.929e-02 4.431e-02 3.909e-02 2.940e-02 4.170e-03 4.851e-02 5.139e-02\n",
      " 6.510e-03 2.664e-02 2.634e-02 3.267e-02 4.488e-02 3.507e-02 9.600e-04\n",
      " 2.364e-02 4.338e-02 6.060e-03 2.670e-02 2.109e-02 3.765e-02 2.946e-02\n",
      " 1.623e-02 2.943e-02 4.794e-02 4.914e-02 1.545e-02 1.215e-02 3.975e-02\n",
      " 2.538e-02 1.176e-02 2.478e-02 3.120e-02 6.510e-03 5.010e-02 4.857e-02\n",
      " 4.200e-03 2.568e-02 8.160e-03 4.677e-02 3.741e-02 4.440e-03 4.410e-02\n",
      " 9.690e-03 7.440e-03 4.905e-02 2.472e-02 3.360e-02 2.850e-03 9.930e-03\n",
      " 3.588e-02 4.809e-02 3.210e-02 7.290e-03 1.530e-03 1.740e-02 4.617e-02\n",
      " 3.852e-02 4.950e-02 3.381e-02 2.292e-02 4.650e-03 4.905e-02 2.961e-02\n",
      " 1.608e-02 2.118e-02 2.706e-02 1.434e-02 4.614e-02 1.377e-02 2.793e-02\n",
      " 2.400e-02 4.644e-02 1.737e-02 1.734e-02 3.627e-02 1.008e-02 5.109e-02\n",
      " 2.232e-02 3.720e-03 1.566e-02 1.074e-02 5.550e-03 1.290e-03 4.761e-02\n",
      " 0.000e+00 2.202e-02 2.133e-02 3.378e-02 3.672e-02 3.609e-02 3.564e-02\n",
      " 7.050e-03 4.449e-02 2.190e-03 2.193e-02 2.535e-02 1.248e-02 1.638e-02\n",
      " 1.914e-02 2.571e-02 3.018e-02 4.911e-02 2.511e-02 2.823e-02 1.575e-02\n",
      " 4.773e-02 4.500e-02 4.338e-02 1.656e-02 4.089e-02 4.332e-02 2.292e-02\n",
      " 6.300e-04 4.089e-02 5.118e-02 4.176e-02 2.217e-02 4.902e-02 4.260e-02\n",
      " 4.335e-02 1.716e-02 4.908e-02 2.445e-02 1.383e-02 4.830e-02 9.000e-03\n",
      " 3.894e-02 5.181e-02 3.909e-02 4.107e-02 3.966e-02 1.008e-02 1.107e-02\n",
      " 1.932e-02 3.993e-02 1.722e-02 3.840e-02 3.897e-02 1.686e-02 3.711e-02\n",
      " 2.784e-02 3.579e-02 4.161e-02 1.854e-02 4.653e-02 1.083e-02 2.976e-02\n",
      " 4.485e-02 4.395e-02 4.518e-02 2.790e-02 3.345e-02 5.400e-04 1.065e-02\n",
      " 3.576e-02 2.493e-02 3.885e-02 4.578e-02 4.500e-04 1.623e-02 7.920e-03\n",
      " 4.599e-02 9.450e-03 2.817e-02 4.350e-03 3.747e-02 3.693e-02 1.740e-02\n",
      " 2.490e-03 4.809e-02 4.410e-02 1.356e-02 1.494e-02 1.155e-02 4.650e-03\n",
      " 3.783e-02 3.447e-02 1.209e-02 6.300e-04 5.223e-02 4.209e-02 4.068e-02\n",
      " 4.194e-02 1.671e-02 5.640e-03 1.689e-02 7.200e-03 6.720e-03 9.000e-03\n",
      " 1.326e-02 2.157e-02 1.074e-02 6.960e-03 7.620e-03 2.505e-02 2.664e-02\n",
      " 1.110e-02 2.448e-02 3.060e-02 3.270e-02 5.241e-02 4.029e-02 3.636e-02\n",
      " 2.874e-02 5.196e-02 2.523e-02 4.563e-02 5.112e-02 2.472e-02 2.745e-02\n",
      " 1.521e-02 3.264e-02 3.471e-02 1.848e-02 4.560e-02 2.895e-02 1.221e-02\n",
      " 5.370e-03 3.270e-03 5.130e-02 4.410e-03 7.860e-03 5.280e-03 1.005e-02\n",
      " 5.169e-02 2.250e-03 2.697e-02 3.141e-02 3.117e-02 4.281e-02 3.171e-02\n",
      " 4.497e-02 2.253e-02 2.067e-02 2.637e-02 2.874e-02 4.326e-02 1.617e-02\n",
      " 3.075e-02 1.263e-02 4.515e-02 4.215e-02 2.853e-02 4.329e-02 1.899e-02\n",
      " 4.509e-02 2.460e-02 5.178e-02 3.609e-02 3.570e-03 4.587e-02 3.954e-02\n",
      " 2.982e-02 2.526e-02 4.848e-02 2.673e-02 5.187e-02 2.928e-02 1.335e-02\n",
      " 3.606e-02 3.699e-02 3.093e-02 2.274e-02 1.818e-02 1.767e-02 1.167e-02\n",
      " 3.390e-02 8.400e-03 3.480e-03 1.020e-02 2.826e-02 2.019e-02 3.084e-02\n",
      " 8.550e-03 4.473e-02 2.262e-02 3.681e-02 3.600e-02 3.546e-02 4.407e-02\n",
      " 4.815e-02 4.452e-02 2.847e-02 1.461e-02 1.425e-02 3.450e-02 1.542e-02\n",
      " 3.249e-02 1.701e-02 4.332e-02 8.160e-03 1.095e-02 3.000e-03 3.900e-02\n",
      " 1.479e-02 2.739e-02 2.307e-02 1.803e-02 4.593e-02 3.480e-03 4.092e-02\n",
      " 3.324e-02 6.420e-03 2.550e-03 3.180e-03 1.437e-02 2.853e-02 5.250e-02\n",
      " 4.860e-03 1.119e-02 1.770e-02 5.850e-03 2.292e-02 2.442e-02 4.284e-02\n",
      " 4.119e-02 4.356e-02 3.135e-02 4.611e-02 5.055e-02 2.550e-03 4.575e-02\n",
      " 2.100e-04 4.962e-02 2.742e-02 1.908e-02 3.639e-02 1.458e-02 4.986e-02\n",
      " 2.934e-02 4.719e-02 4.689e-02 7.890e-03 2.382e-02 1.209e-02 1.074e-02\n",
      " 2.436e-02 5.091e-02 4.752e-02 4.692e-02 4.443e-02 1.902e-02 3.945e-02\n",
      " 2.517e-02 3.123e-02 2.256e-02 4.020e-03 3.327e-02 2.406e-02 3.774e-02\n",
      " 3.756e-02 2.319e-02 2.151e-02 1.857e-02 2.112e-02 1.050e-03 2.742e-02\n",
      " 2.784e-02 1.515e-02 1.245e-02 4.314e-02 3.693e-02 3.279e-02 2.892e-02\n",
      " 4.191e-02 3.774e-02 4.800e-04 1.890e-02 2.196e-02 3.228e-02 2.331e-02\n",
      " 4.221e-02 5.247e-02 4.008e-02 5.700e-03 1.764e-02 1.794e-02 4.332e-02\n",
      " 3.132e-02 4.194e-02 2.892e-02 3.321e-02 4.743e-02 6.180e-03 2.682e-02\n",
      " 4.359e-02 5.136e-02 2.787e-02 5.061e-02 1.290e-02 2.568e-02 4.932e-02\n",
      " 1.086e-02 3.762e-02 1.983e-02 1.686e-02 7.200e-03 5.070e-02 2.514e-02\n",
      " 8.340e-03 1.932e-02 8.130e-03 2.199e-02 2.784e-02 1.359e-02 4.200e-03\n",
      " 6.300e-04 2.541e-02 2.985e-02 3.168e-02 1.650e-02 1.080e-03 3.669e-02\n",
      " 2.874e-02 5.400e-04 4.740e-02 1.080e-02 4.800e-04 3.456e-02 3.843e-02\n",
      " 8.820e-03 1.278e-02 3.657e-02 8.130e-03 2.103e-02 3.201e-02 4.953e-02\n",
      " 9.120e-03 1.161e-02 4.632e-02 4.503e-02 5.205e-02 2.346e-02 4.356e-02\n",
      " 3.996e-02 1.590e-02 1.440e-03 3.420e-02 1.083e-02 4.137e-02 3.126e-02\n",
      " 1.032e-02 1.818e-02 1.479e-02 2.025e-02 5.061e-02 4.059e-02 4.074e-02\n",
      " 5.082e-02 5.097e-02 3.720e-02 1.797e-02 2.247e-02 3.834e-02 1.290e-02\n",
      " 3.219e-02 3.141e-02 4.224e-02 1.956e-02 4.836e-02 3.870e-02 4.203e-02\n",
      " 1.596e-02 3.948e-02 2.712e-02 2.550e-03 3.345e-02 1.167e-02 3.570e-03\n",
      " 2.763e-02 5.157e-02 3.792e-02 4.209e-02 1.809e-02 2.736e-02]\n"
     ]
    }
   ],
   "source": [
    "# Generate a sample of 1000 random numbers from a uniform distribution to act as the x coordinates of the particles\n",
    "unif_x = sts.uniform(left_SI, right_SI-left_SI)\n",
    "sample_x=unif_x.rvs(num_particles)\n",
    "# print(sample_v)\n",
    "# fig, ax = plt.subplots()\n",
    "# ax.hist(sample_v,100) # plot histogram\n",
    "# ax.set_xlabel('x')\n",
    "# ax.set_ylabel('measurements')\n",
    "# print(sample_x_trunc)\n",
    "# print(sample_x)\n",
    "sample_x_in_resol= sample_x/spatial_resolution\n",
    "# print(sample_x_trunc)\n",
    "sample_x_trunc= sample_x_in_resol.astype(int)\n",
    "# print(sample_x_trunc)\n",
    "sample_x_trunc_SI=sample_x_trunc*spatial_resolution\n",
    "print(sample_x_trunc_SI)\n",
    "# print(sample_x_SI)"
   ]
  },
  {
   "cell_type": "code",
   "execution_count": 487,
   "metadata": {},
   "outputs": [
    {
     "data": {
      "text/plain": [
       "array([  0,   1,   2,   3,   4,   5,   6,   7,   8,   9,  10,  11,  12,\n",
       "        13,  14,  15,  16,  17,  18,  19,  20,  21,  22,  23,  24,  25,\n",
       "        26,  27,  28,  29,  30,  31,  32,  33,  34,  35,  36,  37,  38,\n",
       "        39,  40,  41,  42,  43,  44,  45,  46,  47,  48,  49,  50,  51,\n",
       "        52,  53,  54,  55,  56,  57,  58,  59,  60,  61,  62,  63,  64,\n",
       "        65,  66,  67,  68,  69,  70,  71,  72,  73,  74,  75,  76,  77,\n",
       "        78,  79,  80,  81,  82,  83,  84,  85,  86,  87,  88,  89,  90,\n",
       "        91,  92,  93,  94,  95,  96,  97,  98,  99, 100, 101, 102, 103,\n",
       "       104, 105, 106, 107, 108, 109, 110, 111, 112, 113, 114, 115, 116,\n",
       "       117, 118, 119, 120, 121, 122, 123, 124, 125, 126, 127, 128, 129,\n",
       "       130, 131, 132, 133, 134, 135, 136, 137, 138, 139, 140, 141, 142,\n",
       "       143, 144, 145, 146, 147, 148, 149, 150, 151, 152, 153, 154, 155,\n",
       "       156, 157, 158, 159, 160, 161, 162, 163, 164, 165, 166, 167, 168,\n",
       "       169, 170, 171, 172, 173, 174, 175, 176, 177, 178, 179, 180, 181,\n",
       "       182, 183, 184, 185, 186, 187, 188, 189, 190, 191, 192, 193, 194,\n",
       "       195, 196, 197, 198, 199, 200, 201, 202, 203, 204, 205, 206, 207,\n",
       "       208, 209, 210, 211, 212, 213, 214, 215, 216, 217, 218, 219, 220,\n",
       "       221, 222, 223, 224, 225, 226, 227, 228, 229, 230, 231, 232, 233,\n",
       "       234, 235, 236, 237, 238, 239, 240, 241, 242, 243, 244, 245, 246,\n",
       "       247, 248, 249, 250, 251, 252, 253, 254, 255, 256, 257, 258, 259,\n",
       "       260, 261, 262, 263, 264, 265, 266, 267, 268, 269, 270, 271, 272,\n",
       "       273, 274, 275, 276, 277, 278, 279, 280, 281, 282, 283, 284, 285,\n",
       "       286, 287, 288, 289, 290, 291, 292, 293, 294, 295, 296, 297, 298,\n",
       "       299, 300, 301, 302, 303, 304, 305, 306, 307, 308, 309, 310, 311,\n",
       "       312, 313, 314, 315, 316, 317, 318, 319, 320, 321, 322, 323, 324,\n",
       "       325, 326, 327, 328, 329, 330, 331, 332, 333, 334, 335, 336, 337,\n",
       "       338, 339, 340, 341, 342, 343, 344, 345, 346, 347, 348, 349, 350,\n",
       "       351, 352, 353, 354, 355, 356, 357, 358, 359, 360, 361, 362, 363,\n",
       "       364, 365, 366, 367, 368, 369, 370, 371, 372, 373, 374, 375, 376,\n",
       "       377, 378, 379, 380, 381, 382, 383, 384, 385, 386, 387, 388, 389,\n",
       "       390, 391, 392, 393, 394, 395, 396, 397, 398, 399, 400, 401, 402,\n",
       "       403, 404, 405, 406, 407, 408, 409, 410, 411, 412, 413, 414, 415,\n",
       "       416, 417, 418, 419, 420, 421, 422, 423, 424, 425, 426, 427, 428,\n",
       "       429, 430, 431, 432, 433, 434, 435, 436, 437, 438, 439, 440, 441,\n",
       "       442, 443, 444, 445, 446, 447, 448, 449, 450, 451, 452, 453, 454,\n",
       "       455, 456, 457, 458, 459, 460, 461, 462, 463, 464, 465, 466, 467,\n",
       "       468, 469, 470, 471, 472, 473, 474, 475, 476, 477, 478, 479, 480,\n",
       "       481, 482, 483, 484, 485, 486, 487, 488, 489, 490, 491, 492, 493,\n",
       "       494, 495, 496, 497, 498, 499, 500, 501, 502, 503, 504, 505, 506,\n",
       "       507, 508, 509, 510, 511, 512, 513, 514, 515, 516, 517, 518, 519,\n",
       "       520, 521, 522, 523, 524, 525, 526, 527, 528, 529, 530, 531, 532,\n",
       "       533, 534, 535, 536, 537, 538, 539, 540, 541, 542, 543, 544, 545,\n",
       "       546, 547, 548, 549, 550, 551, 552, 553, 554, 555, 556, 557, 558,\n",
       "       559, 560, 561, 562, 563, 564, 565, 566, 567, 568, 569, 570, 571,\n",
       "       572, 573, 574, 575, 576, 577, 578, 579, 580, 581, 582, 583, 584,\n",
       "       585, 586, 587, 588, 589, 590, 591, 592, 593, 594, 595, 596, 597,\n",
       "       598, 599, 600, 601, 602, 603, 604, 605, 606, 607, 608, 609, 610,\n",
       "       611, 612, 613, 614, 615, 616, 617, 618, 619, 620, 621, 622, 623,\n",
       "       624, 625, 626, 627, 628, 629, 630, 631, 632, 633, 634, 635, 636,\n",
       "       637, 638, 639, 640, 641, 642, 643, 644, 645, 646, 647, 648, 649,\n",
       "       650, 651, 652, 653, 654, 655, 656, 657, 658, 659, 660, 661, 662,\n",
       "       663, 664, 665, 666, 667, 668, 669, 670, 671, 672, 673, 674, 675,\n",
       "       676, 677, 678, 679, 680, 681, 682, 683, 684, 685, 686, 687, 688,\n",
       "       689, 690, 691, 692, 693, 694, 695, 696, 697, 698, 699, 700, 701,\n",
       "       702, 703, 704, 705, 706, 707, 708, 709, 710, 711, 712, 713, 714,\n",
       "       715, 716, 717, 718, 719, 720, 721, 722, 723, 724, 725, 726, 727,\n",
       "       728, 729, 730, 731, 732, 733, 734, 735, 736, 737, 738, 739, 740,\n",
       "       741, 742, 743, 744, 745, 746, 747, 748, 749, 750, 751, 752, 753,\n",
       "       754, 755, 756, 757, 758, 759, 760, 761, 762, 763, 764, 765, 766,\n",
       "       767, 768, 769, 770, 771, 772, 773, 774, 775, 776, 777, 778, 779,\n",
       "       780, 781, 782, 783, 784, 785, 786, 787, 788, 789, 790, 791, 792,\n",
       "       793, 794, 795, 796, 797, 798, 799, 800, 801, 802, 803, 804, 805,\n",
       "       806, 807, 808, 809, 810, 811, 812, 813, 814, 815, 816, 817, 818,\n",
       "       819, 820, 821, 822, 823, 824, 825, 826, 827, 828, 829, 830, 831,\n",
       "       832, 833, 834, 835, 836, 837, 838, 839, 840, 841, 842, 843, 844,\n",
       "       845, 846, 847, 848, 849, 850, 851, 852, 853, 854, 855, 856, 857,\n",
       "       858, 859, 860, 861, 862, 863, 864, 865, 866, 867, 868, 869, 870,\n",
       "       871, 872, 873, 874, 875, 876, 877, 878, 879, 880, 881, 882, 883,\n",
       "       884, 885, 886, 887, 888, 889, 890, 891, 892, 893, 894, 895, 896,\n",
       "       897, 898, 899, 900, 901, 902, 903, 904, 905, 906, 907, 908, 909,\n",
       "       910, 911, 912, 913, 914, 915, 916, 917, 918, 919, 920, 921, 922,\n",
       "       923, 924, 925, 926, 927, 928, 929, 930, 931, 932, 933, 934, 935,\n",
       "       936, 937, 938, 939, 940, 941, 942, 943, 944, 945, 946, 947, 948,\n",
       "       949, 950, 951, 952, 953, 954, 955, 956, 957, 958, 959, 960, 961,\n",
       "       962, 963, 964, 965, 966, 967, 968, 969, 970, 971, 972, 973, 974,\n",
       "       975, 976, 977, 978, 979, 980, 981, 982, 983, 984, 985, 986, 987,\n",
       "       988, 989, 990, 991, 992, 993, 994, 995, 996, 997, 998, 999])"
      ]
     },
     "execution_count": 487,
     "metadata": {},
     "output_type": "execute_result"
    }
   ],
   "source": [
    "part_no = np.arange(0,num_particles,dtype = 'int') # array of particles ID numbers\n",
    "part_no"
   ]
  },
  {
   "cell_type": "markdown",
   "metadata": {},
   "source": [
    "Generating velocities"
   ]
  },
  {
   "cell_type": "code",
   "execution_count": 488,
   "metadata": {},
   "outputs": [
    {
     "data": {
      "text/plain": [
       "Text(0, 0.5, 'measurements')"
      ]
     },
     "execution_count": 488,
     "metadata": {},
     "output_type": "execute_result"
    },
    {
     "data": {
      "image/png": "[encoded data removed]",
      "text/plain": [
       "<Figure size 640x480 with 1 Axes>"
      ]
     },
     "metadata": {},
     "output_type": "display_data"
    }
   ],
   "source": [
    "# Generate a sample of 1000 random velocities from a normal distribution\n",
    "norm_rv = sts.norm(mu, sigma)\n",
    "sample_vx = norm_rv.rvs(num_particles) #generate a sample of certain size\n",
    "# print(sample_v)\n",
    "fig, ax = plt.subplots()\n",
    "ax.hist(sample_vx, 100) # plot histogram\n",
    "ax.set_xlabel('v')\n",
    "ax.set_ylabel('measurements')\n",
    "# print(sample_v)"
   ]
  },
  {
   "cell_type": "code",
   "execution_count": 489,
   "metadata": {},
   "outputs": [
    {
     "data": {
      "text/plain": [
       "Text(0, 0.5, 'measurements')"
      ]
     },
     "execution_count": 489,
     "metadata": {},
     "output_type": "execute_result"
    },
    {
     "data": {
      "image/png": "[encoded data removed]",
      "text/plain": [
       "<Figure size 640x480 with 1 Axes>"
      ]
     },
     "metadata": {},
     "output_type": "display_data"
    }
   ],
   "source": [
    "# Generate a sample of 1000 random velocities from a normal distribution\n",
    "norm_rv = sts.norm(mu, sigma)\n",
    "sample_vy = norm_rv.rvs(num_particles) #generate a sample of certain size\n",
    "# print(sample_v)\n",
    "fig, ax = plt.subplots()\n",
    "ax.hist(sample_vy, 100) # plot histogram\n",
    "ax.set_xlabel('v')\n",
    "ax.set_ylabel('measurements')\n",
    "# print(sample_v)"
   ]
  },
  {
   "cell_type": "markdown",
   "metadata": {},
   "source": [
    "Calculating cordinates in next frame"
   ]
  },
  {
   "cell_type": "code",
   "execution_count": 490,
   "metadata": {},
   "outputs": [
    {
     "data": {
      "text/plain": [
       "Text(0, 0.5, 'measurements')"
      ]
     },
     "execution_count": 490,
     "metadata": {},
     "output_type": "execute_result"
    },
    {
     "data": {
      "image/png": "[encoded data removed]",
      "text/plain": [
       "<Figure size 640x480 with 1 Axes>"
      ]
     },
     "metadata": {},
     "output_type": "display_data"
    }
   ],
   "source": [
    "# Simulating the motion of the particles\n",
    "x_forward=sample_x+sample_vx*dt\n",
    "x_forward_in_resol=x_forward/spatial_resolution\n",
    "x_forward_trunc=x_forward_in_resol.astype(int)\n",
    "# print(x_forward_trunc)\n",
    "x_forward_SI=x_forward_trunc*spatial_resolution\n",
    "# print(x_forward_SI)\n",
    "fig, ax = plt.subplots()\n",
    "ax.hist(sample_vx, 100) # plot histogram\n",
    "ax.set_xlabel('v')\n",
    "ax.set_ylabel('measurements')\n",
    "# print(sample_v)"
   ]
  },
  {
   "cell_type": "markdown",
   "metadata": {},
   "source": [
    "Calculating the discrepancies"
   ]
  },
  {
   "cell_type": "code",
   "execution_count": 491,
   "metadata": {},
   "outputs": [
    {
     "name": "stdout",
     "output_type": "stream",
     "text": [
      "0.0045551018506077125\n",
      "38.57670434311249\n",
      "3857.6704343112488\n"
     ]
    }
   ],
   "source": [
    "# Calculating restored velocities\n",
    "v_restored=(x_forward_SI-sample_x)/dt\n",
    "# print(v_restored)\n",
    "\n",
    "# Calculating the discrepancy between the original and restored velocities\n",
    "discrepancy=np.abs(sample_vx-v_restored)\n",
    "print(np.mean(discrepancy))\n",
    "frac_discrepancy=np.abs(discrepancy/sample_vx)\n",
    "print(np.mean(frac_discrepancy))\n",
    "percent_discrepancy=frac_discrepancy*100\n",
    "print(np.mean(percent_discrepancy))"
   ]
  },
  {
   "cell_type": "markdown",
   "metadata": {},
   "source": [
    "Code to make the y coordinates"
   ]
  },
  {
   "cell_type": "code",
   "execution_count": 492,
   "metadata": {},
   "outputs": [],
   "source": [
    "# Generate a sample of 1000 random numbers from a uniform distribution to act as the x coordinates of the particles\n",
    "unif_y = sts.uniform(left_SI, right_SI-left_SI)\n",
    "sample_y=unif_y.rvs(num_particles)\n",
    "# print(sample_v)\n",
    "# fig, ax = plt.subplots()\n",
    "# ax.hist(sample_v,100) # plot histogram\n",
    "# ax.set_xlabel('x')\n",
    "# ax.set_ylabel('measurements')\n",
    "# print(sample_x_trunc)\n",
    "# print(sample_x)\n",
    "sample_y_in_resol= sample_y/spatial_resolution\n",
    "# print(sample_x_trunc)\n",
    "sample_y_trunc= sample_y_in_resol.astype(int)\n",
    "# print(sample_x_trunc)\n",
    "sample_y_trunc_SI=sample_y_trunc*spatial_resolution\n",
    "# print(sample_y_trunc_SI\n",
    "    #   )\n",
    "# print(sample_x_SI)"
   ]
  },
  {
   "cell_type": "code",
   "execution_count": 493,
   "metadata": {},
   "outputs": [
    {
     "data": {
      "text/plain": [
       "Text(0, 0.5, 'measurements')"
      ]
     },
     "execution_count": 493,
     "metadata": {},
     "output_type": "execute_result"
    },
    {
     "data": {
      "image/png": "[encoded data removed]",
      "text/plain": [
       "<Figure size 640x480 with 1 Axes>"
      ]
     },
     "metadata": {},
     "output_type": "display_data"
    }
   ],
   "source": [
    "# Simulating the motion of the particles\n",
    "y_forward=sample_y+sample_vy*dt\n",
    "y_forward_in_resol=y_forward/spatial_resolution\n",
    "y_forward_trunc=y_forward_in_resol.astype(int)\n",
    "# print(x_forward_trunc)\n",
    "x_forward_SI=x_forward_trunc*spatial_resolution\n",
    "# print(x_forward_SI)\n",
    "fig, ax = plt.subplots()\n",
    "ax.hist(sample_vy, 100) # plot histogram\n",
    "ax.set_xlabel('v')\n",
    "ax.set_ylabel('measurements')\n",
    "# print(sample_v)"
   ]
  },
  {
   "cell_type": "markdown",
   "metadata": {},
   "source": [
    "Making the database of co-ordinates"
   ]
  },
  {
   "cell_type": "code",
   "execution_count": 494,
   "metadata": {},
   "outputs": [],
   "source": [
    "frame = 1\n",
    "final_frame = 2\n",
    "frame_data = []\n",
    "\n",
    "while frame <= final_frame:\n",
    "    for j in range(num_particles):\n",
    "        # Append the data for the current frame\n",
    "        frame_data.append([sample_x_trunc_SI[j], sample_y_trunc_SI[j], j, frame])\n",
    "        \n",
    "    # Simulating the motion of the particles for x coordinates\n",
    "    x_forward = sample_x_trunc_SI + sample_vx * dt\n",
    "    x_forward_in_resol = x_forward / spatial_resolution\n",
    "    x_forward_trunc = x_forward_in_resol.astype(int)\n",
    "    sample_x_trunc_SI = x_forward_trunc * spatial_resolution\n",
    "\n",
    "    # Simulating the motion of the particles for y coordinates\n",
    "    y_forward = sample_y_trunc_SI + sample_vy * dt\n",
    "    y_forward_in_resol = y_forward / spatial_resolution\n",
    "    y_forward_trunc = y_forward_in_resol.astype(int)\n",
    "    sample_y_trunc_SI= y_forward_trunc * spatial_resolution\n",
    "\n",
    "    frame += 1\n",
    "\n",
    "x_y_df = pd.DataFrame(frame_data, columns=['x', 'y', 'part_no', 'frame'])\n",
    "\n"
   ]
  },
  {
   "cell_type": "code",
   "execution_count": 499,
   "metadata": {},
   "outputs": [
    {
     "name": "stdout",
     "output_type": "stream",
     "text": [
      "           x        y  part_no  frame\n",
      "0    0.03405  0.00267        0      1\n",
      "1    0.01161  0.02172        1      1\n",
      "2    0.00738  0.02433        2      1\n",
      "3    0.04815  0.00582        3      1\n",
      "4    0.01131  0.03660        4      1\n",
      "..       ...      ...      ...    ...\n",
      "995  0.05157  0.00750      995      1\n",
      "996  0.03792  0.00699      996      1\n",
      "997  0.04209  0.03480      997      1\n",
      "998  0.01809  0.01083      998      1\n",
      "999  0.02736  0.03027      999      1\n",
      "\n",
      "[1000 rows x 4 columns]\n"
     ]
    }
   ],
   "source": [
    "print(x_y_df[x_y_df['frame'] ==1])"
   ]
  },
  {
   "cell_type": "markdown",
   "metadata": {},
   "source": [
    "Function to create the database of velocities"
   ]
  },
  {
   "cell_type": "code",
   "execution_count": null,
   "metadata": {},
   "outputs": [],
   "source": [
    "def make_velocities(fps,num_particles,spatial_resolution, mu,T, right_border_px, up_border_px):\n",
    "    dt=1/fps\n",
    "    dust_diameter=7.14E-6 \n",
    "    dust_rho=1510.0\n",
    "    mass = 4.0 / 3.0 * np.pi * (dust_diameter/ 2.0)**3 * dust_rho #mass of the dust particles\n",
    "    # print(mass)\n",
    "    kb=constants.Boltzmann\n",
    "    sigma = np.sqrt(kb*T/mass)\n",
    "    # print(sigma)\n",
    "    left=0\n",
    "    down=0\n",
    "    down_SI=down*spatial_resolution\n",
    "    left_SI=left*spatial_resolution\n",
    "    up_SI=up_border_px*spatial_resolution\n",
    "    right_SI=right_border_px*spatial_resolution\n",
    "    \n",
    "    return right_SI"
   ]
  },
  {
   "cell_type": "code",
   "execution_count": 497,
   "metadata": {},
   "outputs": [
    {
     "ename": "TypeError",
     "evalue": "make_velocities() missing 1 required positional argument: 'up_border'",
     "output_type": "error",
     "traceback": [
      "\u001b[1;31m---------------------------------------------------------------------------\u001b[0m",
      "\u001b[1;31mTypeError\u001b[0m                                 Traceback (most recent call last)",
      "Cell \u001b[1;32mIn[497], line 1\u001b[0m\n\u001b[1;32m----> 1\u001b[0m make_velocities(fps,num_particles,spatial_resolution, mu,T, right)\n",
      "\u001b[1;31mTypeError\u001b[0m: make_velocities() missing 1 required positional argument: 'up_border'"
     ]
    }
   ],
   "source": [
    "make_velocities(fps,num_particles,spatial_resolution, mu,T, right)"
   ]
  },
  {
   "cell_type": "markdown",
   "metadata": {},
   "source": [
    "Function to get the discrepancies"
   ]
  }
 ],
 "metadata": {
  "kernelspec": {
   "display_name": "base",
   "language": "python",
   "name": "python3"
  },
  "language_info": {
   "codemirror_mode": {
    "name": "ipython",
    "version": 3
   },
   "file_extension": ".py",
   "mimetype": "text/x-python",
   "name": "python",
   "nbconvert_exporter": "python",
   "pygments_lexer": "ipython3",
   "version": "3.11.7"
  }
 },
 "nbformat": 4,
 "nbformat_minor": 2
}
